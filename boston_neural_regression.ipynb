{
  "cells": [
    {
      "cell_type": "code",
      "execution_count": 1,
      "metadata": {
        "id": "NvB230UXkTsJ"
      },
      "outputs": [],
      "source": [
        "import pandas as pd\n",
        "import numpy as np\n",
        "import matplotlib.pyplot as plt\n",
        "import seaborn as sns \n",
        "import matplotlib.pyplot as plt\n",
        "from scipy.stats import pearsonr"
      ]
    },
    {
      "cell_type": "markdown",
      "metadata": {
        "id": "cGTy9QTLP0TL"
      },
      "source": [
        "###The Boston Housing Dataset\n",
        "\n",
        "The Boston Housing Dataset is a derived from information collected by the U.S. Census Service concerning housing in the area of Boston MA. The following describes the dataset columns:\n",
        "\n",
        "* CRIM - per capita crime rate by town\n",
        "* ZN - proportion of residential land zoned for lots over 25,000 sq.ft.\n",
        "* INDUS - proportion of non-retail business acres per town.\n",
        "* CHAS - Charles River dummy variable (1 if tract bounds river; 0 otherwise)\n",
        "* NOX - nitric oxides concentration (parts per 10 million)\n",
        "* RM - average number of rooms per dwelling\n",
        "* AGE - proportion of owner-occupied units built prior to 1940\n",
        "* DIS - weighted distances to five Boston employment centres\n",
        "* RAD - index of accessibility to radial highways\n",
        "* TAX - full-value property-tax rate per $\\$ $10,000\n",
        "* PTRATIO - pupil-teacher ratio by town\n",
        "* B - 1000(Bk - 0.63)^2 where Bk is the proportion of blacks by town\n",
        "* LSTAT - % lower status of the population\n",
        "* MEDV (target) - Median value of owner-occupied homes in $1000's"
      ]
    },
    {
      "cell_type": "code",
      "execution_count": 2,
      "metadata": {
        "id": "2o6YU4GnpNYx"
      },
      "outputs": [],
      "source": [
        "import warnings\n",
        "from sklearn.datasets import load_boston\n",
        "with warnings.catch_warnings():\n",
        "     warnings.filterwarnings(\"ignore\")\n",
        "     dados = load_boston(return_X_y=False)"
      ]
    },
    {
      "cell_type": "markdown",
      "source": [
        "#### Análise dos dados"
      ],
      "metadata": {
        "id": "b04d11W4D2Z7"
      }
    },
    {
      "cell_type": "code",
      "execution_count": 3,
      "metadata": {
        "colab": {
          "base_uri": "https://localhost:8080/",
          "height": 362
        },
        "id": "Cl9rIh638V0C",
        "outputId": "8fb9df62-3de1-4395-c655-c2da6759f9e3"
      },
      "outputs": [
        {
          "output_type": "execute_result",
          "data": {
            "text/html": [
              "\n",
              "  <div id=\"df-d33aded6-3aef-4130-8f2b-10f206a3f733\">\n",
              "    <div class=\"colab-df-container\">\n",
              "      <div>\n",
              "<style scoped>\n",
              "    .dataframe tbody tr th:only-of-type {\n",
              "        vertical-align: middle;\n",
              "    }\n",
              "\n",
              "    .dataframe tbody tr th {\n",
              "        vertical-align: top;\n",
              "    }\n",
              "\n",
              "    .dataframe thead th {\n",
              "        text-align: right;\n",
              "    }\n",
              "</style>\n",
              "<table border=\"1\" class=\"dataframe\">\n",
              "  <thead>\n",
              "    <tr style=\"text-align: right;\">\n",
              "      <th></th>\n",
              "      <th>CRIM</th>\n",
              "      <th>ZN</th>\n",
              "      <th>INDUS</th>\n",
              "      <th>CHAS</th>\n",
              "      <th>NOX</th>\n",
              "      <th>RM</th>\n",
              "      <th>AGE</th>\n",
              "      <th>DIS</th>\n",
              "      <th>RAD</th>\n",
              "      <th>TAX</th>\n",
              "      <th>PTRATIO</th>\n",
              "      <th>B</th>\n",
              "      <th>LSTAT</th>\n",
              "      <th>target</th>\n",
              "    </tr>\n",
              "  </thead>\n",
              "  <tbody>\n",
              "    <tr>\n",
              "      <th>0</th>\n",
              "      <td>0.00632</td>\n",
              "      <td>18.0</td>\n",
              "      <td>2.31</td>\n",
              "      <td>0.0</td>\n",
              "      <td>0.538</td>\n",
              "      <td>6.575</td>\n",
              "      <td>65.2</td>\n",
              "      <td>4.0900</td>\n",
              "      <td>1.0</td>\n",
              "      <td>296.0</td>\n",
              "      <td>15.3</td>\n",
              "      <td>396.90</td>\n",
              "      <td>4.98</td>\n",
              "      <td>24.0</td>\n",
              "    </tr>\n",
              "    <tr>\n",
              "      <th>1</th>\n",
              "      <td>0.02731</td>\n",
              "      <td>0.0</td>\n",
              "      <td>7.07</td>\n",
              "      <td>0.0</td>\n",
              "      <td>0.469</td>\n",
              "      <td>6.421</td>\n",
              "      <td>78.9</td>\n",
              "      <td>4.9671</td>\n",
              "      <td>2.0</td>\n",
              "      <td>242.0</td>\n",
              "      <td>17.8</td>\n",
              "      <td>396.90</td>\n",
              "      <td>9.14</td>\n",
              "      <td>21.6</td>\n",
              "    </tr>\n",
              "    <tr>\n",
              "      <th>2</th>\n",
              "      <td>0.02729</td>\n",
              "      <td>0.0</td>\n",
              "      <td>7.07</td>\n",
              "      <td>0.0</td>\n",
              "      <td>0.469</td>\n",
              "      <td>7.185</td>\n",
              "      <td>61.1</td>\n",
              "      <td>4.9671</td>\n",
              "      <td>2.0</td>\n",
              "      <td>242.0</td>\n",
              "      <td>17.8</td>\n",
              "      <td>392.83</td>\n",
              "      <td>4.03</td>\n",
              "      <td>34.7</td>\n",
              "    </tr>\n",
              "    <tr>\n",
              "      <th>3</th>\n",
              "      <td>0.03237</td>\n",
              "      <td>0.0</td>\n",
              "      <td>2.18</td>\n",
              "      <td>0.0</td>\n",
              "      <td>0.458</td>\n",
              "      <td>6.998</td>\n",
              "      <td>45.8</td>\n",
              "      <td>6.0622</td>\n",
              "      <td>3.0</td>\n",
              "      <td>222.0</td>\n",
              "      <td>18.7</td>\n",
              "      <td>394.63</td>\n",
              "      <td>2.94</td>\n",
              "      <td>33.4</td>\n",
              "    </tr>\n",
              "    <tr>\n",
              "      <th>4</th>\n",
              "      <td>0.06905</td>\n",
              "      <td>0.0</td>\n",
              "      <td>2.18</td>\n",
              "      <td>0.0</td>\n",
              "      <td>0.458</td>\n",
              "      <td>7.147</td>\n",
              "      <td>54.2</td>\n",
              "      <td>6.0622</td>\n",
              "      <td>3.0</td>\n",
              "      <td>222.0</td>\n",
              "      <td>18.7</td>\n",
              "      <td>396.90</td>\n",
              "      <td>5.33</td>\n",
              "      <td>36.2</td>\n",
              "    </tr>\n",
              "    <tr>\n",
              "      <th>5</th>\n",
              "      <td>0.02985</td>\n",
              "      <td>0.0</td>\n",
              "      <td>2.18</td>\n",
              "      <td>0.0</td>\n",
              "      <td>0.458</td>\n",
              "      <td>6.430</td>\n",
              "      <td>58.7</td>\n",
              "      <td>6.0622</td>\n",
              "      <td>3.0</td>\n",
              "      <td>222.0</td>\n",
              "      <td>18.7</td>\n",
              "      <td>394.12</td>\n",
              "      <td>5.21</td>\n",
              "      <td>28.7</td>\n",
              "    </tr>\n",
              "    <tr>\n",
              "      <th>6</th>\n",
              "      <td>0.08829</td>\n",
              "      <td>12.5</td>\n",
              "      <td>7.87</td>\n",
              "      <td>0.0</td>\n",
              "      <td>0.524</td>\n",
              "      <td>6.012</td>\n",
              "      <td>66.6</td>\n",
              "      <td>5.5605</td>\n",
              "      <td>5.0</td>\n",
              "      <td>311.0</td>\n",
              "      <td>15.2</td>\n",
              "      <td>395.60</td>\n",
              "      <td>12.43</td>\n",
              "      <td>22.9</td>\n",
              "    </tr>\n",
              "    <tr>\n",
              "      <th>7</th>\n",
              "      <td>0.14455</td>\n",
              "      <td>12.5</td>\n",
              "      <td>7.87</td>\n",
              "      <td>0.0</td>\n",
              "      <td>0.524</td>\n",
              "      <td>6.172</td>\n",
              "      <td>96.1</td>\n",
              "      <td>5.9505</td>\n",
              "      <td>5.0</td>\n",
              "      <td>311.0</td>\n",
              "      <td>15.2</td>\n",
              "      <td>396.90</td>\n",
              "      <td>19.15</td>\n",
              "      <td>27.1</td>\n",
              "    </tr>\n",
              "    <tr>\n",
              "      <th>8</th>\n",
              "      <td>0.21124</td>\n",
              "      <td>12.5</td>\n",
              "      <td>7.87</td>\n",
              "      <td>0.0</td>\n",
              "      <td>0.524</td>\n",
              "      <td>5.631</td>\n",
              "      <td>100.0</td>\n",
              "      <td>6.0821</td>\n",
              "      <td>5.0</td>\n",
              "      <td>311.0</td>\n",
              "      <td>15.2</td>\n",
              "      <td>386.63</td>\n",
              "      <td>29.93</td>\n",
              "      <td>16.5</td>\n",
              "    </tr>\n",
              "    <tr>\n",
              "      <th>9</th>\n",
              "      <td>0.17004</td>\n",
              "      <td>12.5</td>\n",
              "      <td>7.87</td>\n",
              "      <td>0.0</td>\n",
              "      <td>0.524</td>\n",
              "      <td>6.004</td>\n",
              "      <td>85.9</td>\n",
              "      <td>6.5921</td>\n",
              "      <td>5.0</td>\n",
              "      <td>311.0</td>\n",
              "      <td>15.2</td>\n",
              "      <td>386.71</td>\n",
              "      <td>17.10</td>\n",
              "      <td>18.9</td>\n",
              "    </tr>\n",
              "  </tbody>\n",
              "</table>\n",
              "</div>\n",
              "      <button class=\"colab-df-convert\" onclick=\"convertToInteractive('df-d33aded6-3aef-4130-8f2b-10f206a3f733')\"\n",
              "              title=\"Convert this dataframe to an interactive table.\"\n",
              "              style=\"display:none;\">\n",
              "        \n",
              "  <svg xmlns=\"http://www.w3.org/2000/svg\" height=\"24px\"viewBox=\"0 0 24 24\"\n",
              "       width=\"24px\">\n",
              "    <path d=\"M0 0h24v24H0V0z\" fill=\"none\"/>\n",
              "    <path d=\"M18.56 5.44l.94 2.06.94-2.06 2.06-.94-2.06-.94-.94-2.06-.94 2.06-2.06.94zm-11 1L8.5 8.5l.94-2.06 2.06-.94-2.06-.94L8.5 2.5l-.94 2.06-2.06.94zm10 10l.94 2.06.94-2.06 2.06-.94-2.06-.94-.94-2.06-.94 2.06-2.06.94z\"/><path d=\"M17.41 7.96l-1.37-1.37c-.4-.4-.92-.59-1.43-.59-.52 0-1.04.2-1.43.59L10.3 9.45l-7.72 7.72c-.78.78-.78 2.05 0 2.83L4 21.41c.39.39.9.59 1.41.59.51 0 1.02-.2 1.41-.59l7.78-7.78 2.81-2.81c.8-.78.8-2.07 0-2.86zM5.41 20L4 18.59l7.72-7.72 1.47 1.35L5.41 20z\"/>\n",
              "  </svg>\n",
              "      </button>\n",
              "      \n",
              "  <style>\n",
              "    .colab-df-container {\n",
              "      display:flex;\n",
              "      flex-wrap:wrap;\n",
              "      gap: 12px;\n",
              "    }\n",
              "\n",
              "    .colab-df-convert {\n",
              "      background-color: #E8F0FE;\n",
              "      border: none;\n",
              "      border-radius: 50%;\n",
              "      cursor: pointer;\n",
              "      display: none;\n",
              "      fill: #1967D2;\n",
              "      height: 32px;\n",
              "      padding: 0 0 0 0;\n",
              "      width: 32px;\n",
              "    }\n",
              "\n",
              "    .colab-df-convert:hover {\n",
              "      background-color: #E2EBFA;\n",
              "      box-shadow: 0px 1px 2px rgba(60, 64, 67, 0.3), 0px 1px 3px 1px rgba(60, 64, 67, 0.15);\n",
              "      fill: #174EA6;\n",
              "    }\n",
              "\n",
              "    [theme=dark] .colab-df-convert {\n",
              "      background-color: #3B4455;\n",
              "      fill: #D2E3FC;\n",
              "    }\n",
              "\n",
              "    [theme=dark] .colab-df-convert:hover {\n",
              "      background-color: #434B5C;\n",
              "      box-shadow: 0px 1px 3px 1px rgba(0, 0, 0, 0.15);\n",
              "      filter: drop-shadow(0px 1px 2px rgba(0, 0, 0, 0.3));\n",
              "      fill: #FFFFFF;\n",
              "    }\n",
              "  </style>\n",
              "\n",
              "      <script>\n",
              "        const buttonEl =\n",
              "          document.querySelector('#df-d33aded6-3aef-4130-8f2b-10f206a3f733 button.colab-df-convert');\n",
              "        buttonEl.style.display =\n",
              "          google.colab.kernel.accessAllowed ? 'block' : 'none';\n",
              "\n",
              "        async function convertToInteractive(key) {\n",
              "          const element = document.querySelector('#df-d33aded6-3aef-4130-8f2b-10f206a3f733');\n",
              "          const dataTable =\n",
              "            await google.colab.kernel.invokeFunction('convertToInteractive',\n",
              "                                                     [key], {});\n",
              "          if (!dataTable) return;\n",
              "\n",
              "          const docLinkHtml = 'Like what you see? Visit the ' +\n",
              "            '<a target=\"_blank\" href=https://colab.research.google.com/notebooks/data_table.ipynb>data table notebook</a>'\n",
              "            + ' to learn more about interactive tables.';\n",
              "          element.innerHTML = '';\n",
              "          dataTable['output_type'] = 'display_data';\n",
              "          await google.colab.output.renderOutput(dataTable, element);\n",
              "          const docLink = document.createElement('div');\n",
              "          docLink.innerHTML = docLinkHtml;\n",
              "          element.appendChild(docLink);\n",
              "        }\n",
              "      </script>\n",
              "    </div>\n",
              "  </div>\n",
              "  "
            ],
            "text/plain": [
              "      CRIM    ZN  INDUS  CHAS    NOX  ...    TAX  PTRATIO       B  LSTAT  target\n",
              "0  0.00632  18.0   2.31   0.0  0.538  ...  296.0     15.3  396.90   4.98    24.0\n",
              "1  0.02731   0.0   7.07   0.0  0.469  ...  242.0     17.8  396.90   9.14    21.6\n",
              "2  0.02729   0.0   7.07   0.0  0.469  ...  242.0     17.8  392.83   4.03    34.7\n",
              "3  0.03237   0.0   2.18   0.0  0.458  ...  222.0     18.7  394.63   2.94    33.4\n",
              "4  0.06905   0.0   2.18   0.0  0.458  ...  222.0     18.7  396.90   5.33    36.2\n",
              "5  0.02985   0.0   2.18   0.0  0.458  ...  222.0     18.7  394.12   5.21    28.7\n",
              "6  0.08829  12.5   7.87   0.0  0.524  ...  311.0     15.2  395.60  12.43    22.9\n",
              "7  0.14455  12.5   7.87   0.0  0.524  ...  311.0     15.2  396.90  19.15    27.1\n",
              "8  0.21124  12.5   7.87   0.0  0.524  ...  311.0     15.2  386.63  29.93    16.5\n",
              "9  0.17004  12.5   7.87   0.0  0.524  ...  311.0     15.2  386.71  17.10    18.9\n",
              "\n",
              "[10 rows x 14 columns]"
            ]
          },
          "metadata": {},
          "execution_count": 3
        }
      ],
      "source": [
        "X = dados.data\n",
        "y = dados.target\n",
        "\n",
        "df = pd.DataFrame(X)\n",
        "df.columns = dados.feature_names\n",
        "df['target'] = y\n",
        "df.head(n=10)"
      ]
    },
    {
      "cell_type": "markdown",
      "source": [
        "Verificando existencia de valores faltosos:"
      ],
      "metadata": {
        "id": "rByQFK09HYAY"
      }
    },
    {
      "cell_type": "code",
      "execution_count": 4,
      "metadata": {
        "colab": {
          "base_uri": "https://localhost:8080/"
        },
        "id": "ImKMu12cO-_6",
        "outputId": "226f83d3-0b4d-4048-8a08-a0a2c7929648"
      },
      "outputs": [
        {
          "output_type": "stream",
          "name": "stdout",
          "text": [
            "<class 'pandas.core.frame.DataFrame'>\n",
            "RangeIndex: 506 entries, 0 to 505\n",
            "Data columns (total 14 columns):\n",
            " #   Column   Non-Null Count  Dtype  \n",
            "---  ------   --------------  -----  \n",
            " 0   CRIM     506 non-null    float64\n",
            " 1   ZN       506 non-null    float64\n",
            " 2   INDUS    506 non-null    float64\n",
            " 3   CHAS     506 non-null    float64\n",
            " 4   NOX      506 non-null    float64\n",
            " 5   RM       506 non-null    float64\n",
            " 6   AGE      506 non-null    float64\n",
            " 7   DIS      506 non-null    float64\n",
            " 8   RAD      506 non-null    float64\n",
            " 9   TAX      506 non-null    float64\n",
            " 10  PTRATIO  506 non-null    float64\n",
            " 11  B        506 non-null    float64\n",
            " 12  LSTAT    506 non-null    float64\n",
            " 13  target   506 non-null    float64\n",
            "dtypes: float64(14)\n",
            "memory usage: 55.5 KB\n"
          ]
        }
      ],
      "source": [
        "df.info()"
      ]
    },
    {
      "cell_type": "code",
      "execution_count": 5,
      "metadata": {
        "colab": {
          "base_uri": "https://localhost:8080/"
        },
        "id": "V4iEB2KWuG44",
        "outputId": "d9d66b26-ad25-45b3-f1aa-95fd7169e3ea"
      },
      "outputs": [
        {
          "output_type": "stream",
          "name": "stdout",
          "text": [
            " Atributo    Coef. Pearson \n",
            "    CRIM       -0.3883\n",
            "      ZN       0.3604\n",
            "   INDUS       -0.4837\n",
            "    CHAS       0.1753\n",
            "     NOX       -0.4273\n",
            "      RM       0.6954\n",
            "     AGE       -0.3770\n",
            "     DIS       0.2499\n",
            "     RAD       -0.3816\n",
            "     TAX       -0.4685\n",
            " PTRATIO       -0.5078\n",
            "       B       0.3335\n",
            "   LSTAT       -0.7377\n",
            "  target       1.0000\n"
          ]
        }
      ],
      "source": [
        "\n",
        "# Coeficiente de Pearson: funcao perasonr retorna uma tupla, o \n",
        "# primeiro elemento é o coeficiente desejado, e o pi value, reflete \n",
        "# a confiança nos dados da estatística.\n",
        "\n",
        "print(' Atributo    Coef. Pearson ' )\n",
        "for col in df.columns:\n",
        "    print(' %7s       %6.4f' %(col, pearsonr(df[col],df['target'])[0]))\n"
      ]
    },
    {
      "cell_type": "code",
      "execution_count": 6,
      "metadata": {
        "colab": {
          "base_uri": "https://localhost:8080/",
          "height": 312
        },
        "id": "y-CmqQrrssjc",
        "outputId": "e422a8fa-1869-4bf6-c642-97b219aa5c63"
      },
      "outputs": [
        {
          "output_type": "execute_result",
          "data": {
            "text/plain": [
              "<matplotlib.axes._subplots.AxesSubplot at 0x7f4931748f10>"
            ]
          },
          "metadata": {},
          "execution_count": 6
        },
        {
          "output_type": "display_data",
          "data": {
            "image/png": "[encoded data removed]",
            "text/plain": [
              "<Figure size 432x288 with 1 Axes>"
            ]
          },
          "metadata": {
            "needs_background": "light"
          }
        }
      ],
      "source": [
        "atributo_1 = 'LSTAT'\n",
        "atributo_2 = 'RM'\n",
        "\n",
        "df.plot.scatter(x=atributo_1, y= atributo_2,title= atributo_1 +' vs ' + atributo_2, marker='v', alpha=0.2, c='purple')\n",
        "\n",
        "# Para selecionar as melhores variavies, nao necessariamente as mais correlacionadas\n",
        "# com o alvo sao as melhores a serem selecionadas, principalmente, se elas já tem\n",
        "# correlacao entre sí, melhor escolher variaveis que tem pouca correlação.\n"
      ]
    },
    {
      "cell_type": "code",
      "execution_count": 7,
      "metadata": {
        "colab": {
          "base_uri": "https://localhost:8080/",
          "height": 312
        },
        "id": "dGybibzZ04Uo",
        "outputId": "8f5a0983-4e83-403c-d590-e289d56fed8d"
      },
      "outputs": [
        {
          "output_type": "execute_result",
          "data": {
            "text/plain": [
              "<matplotlib.axes._subplots.AxesSubplot at 0x7f49315a3c10>"
            ]
          },
          "metadata": {},
          "execution_count": 7
        },
        {
          "output_type": "display_data",
          "data": {
            "image/png": "[encoded data removed]",
            "text/plain": [
              "<Figure size 432x288 with 1 Axes>"
            ]
          },
          "metadata": {
            "needs_background": "light"
          }
        }
      ],
      "source": [
        "atributo_1 = 'CRIM' #numero de quartos\n",
        "atributo_2 = 'ZN' \n",
        "df.plot.scatter(x=atributo_1, y= atributo_2, title= atributo_1 +' vs ' + atributo_2,  marker='v', alpha=0.3, c='red')\n",
        "   "
      ]
    },
    {
      "cell_type": "code",
      "execution_count": 8,
      "metadata": {
        "colab": {
          "base_uri": "https://localhost:8080/",
          "height": 295
        },
        "id": "AzeEjx_oFuRz",
        "outputId": "bfb75774-5c54-41e7-fc52-8dfbd7492b93"
      },
      "outputs": [
        {
          "output_type": "display_data",
          "data": {
            "image/png": "[encoded data removed]",
            "text/plain": [
              "<Figure size 720x288 with 1 Axes>"
            ]
          },
          "metadata": {
            "needs_background": "light"
          }
        }
      ],
      "source": [
        "variaveis_discretas = ['CHAS']\n",
        "\n",
        "for col in variaveis_discretas:\n",
        "    plt.figure(figsize = (10,4))\n",
        "    plt.title('Relação entre '+ col+' vs preco')\n",
        "    sns.barplot(x = col, y = 'target', data = df)\n",
        "    plt.show()\n",
        "   \n",
        "   "
      ]
    },
    {
      "cell_type": "code",
      "execution_count": 9,
      "metadata": {
        "colab": {
          "base_uri": "https://localhost:8080/",
          "height": 401
        },
        "id": "KzXSQgXzJLlY",
        "outputId": "f68f5416-941f-4e01-e953-dce25d522ca3"
      },
      "outputs": [
        {
          "output_type": "stream",
          "name": "stderr",
          "text": [
            "/usr/local/lib/python3.7/dist-packages/seaborn/distributions.py:2619: FutureWarning: `distplot` is a deprecated function and will be removed in a future version. Please adapt your code to use either `displot` (a figure-level function with similar flexibility) or `histplot` (an axes-level function for histograms).\n",
            "  warnings.warn(msg, FutureWarning)\n",
            "/usr/local/lib/python3.7/dist-packages/seaborn/distributions.py:2619: FutureWarning: `distplot` is a deprecated function and will be removed in a future version. Please adapt your code to use either `displot` (a figure-level function with similar flexibility) or `histplot` (an axes-level function for histograms).\n",
            "  warnings.warn(msg, FutureWarning)\n"
          ]
        },
        {
          "output_type": "execute_result",
          "data": {
            "text/plain": [
              "<matplotlib.legend.Legend at 0x7f493107f890>"
            ]
          },
          "metadata": {},
          "execution_count": 9
        },
        {
          "output_type": "display_data",
          "data": {
            "image/png": "[encoded data removed]",
            "text/plain": [
              "<Figure size 720x288 with 1 Axes>"
            ]
          },
          "metadata": {
            "needs_background": "light"
          }
        }
      ],
      "source": [
        "f0 = df[df['CHAS'] == 0]\n",
        "f1 = df[df['CHAS'] == 1]\n",
        "\n",
        "\n",
        "plt.figure(figsize = (10,4))\n",
        "plt.title('Distribuição de preco para variavel discreta CHAS')\n",
        "sns.distplot(f0['target'], label='CHAS =0')\n",
        "sns.distplot(f1['target'], label='CHAS =1')\n",
        "plt.legend()"
      ]
    },
    {
      "cell_type": "markdown",
      "metadata": {
        "id": "sWjX3eu6AXym"
      },
      "source": [
        "#### Separação dos dados em conjunto de teste e de treinamento:"
      ]
    },
    {
      "cell_type": "code",
      "execution_count": 10,
      "metadata": {
        "id": "zXJnI3DEAXW0"
      },
      "outputs": [],
      "source": [
        "from sklearn.model_selection import train_test_split\n",
        "\n",
        "X = df.iloc[:,:-1]\n",
        "y = df.iloc[:, -1]\n",
        "\n",
        "X_treino,X_teste,y_treino,y_teste = train_test_split(X,y,test_size=0.2,random_state=12345)"
      ]
    },
    {
      "cell_type": "markdown",
      "metadata": {
        "id": "wNDf67ErqgRM"
      },
      "source": [
        "Criação da função para cross validation"
      ]
    },
    {
      "cell_type": "code",
      "execution_count": 11,
      "metadata": {
        "id": "ZAElScMlMtm5"
      },
      "outputs": [],
      "source": [
        "from sklearn.model_selection import cross_validate, KFold\n",
        "\n",
        "def validacao_cruzada(modelo):\n",
        "  \n",
        "  kf = KFold(n_splits=10)\n",
        "  scores = cross_validate(modelo, X_treino, y_treino, cv=kf, scoring='r2', return_train_score=True)\n",
        "  return scores"
      ]
    },
    {
      "cell_type": "markdown",
      "metadata": {
        "id": "Sc56Gz6Mqu2o"
      },
      "source": [
        "#### Criando primeiro modelo regressor MLP utilizando parametros default (otimizador Adam):"
      ]
    },
    {
      "cell_type": "code",
      "execution_count": null,
      "metadata": {
        "id": "dh__Hwg5NVkO"
      },
      "outputs": [],
      "source": [
        "from sklearn.neural_network import MLPRegressor\n",
        "\n",
        "# função de ativação: relu definida como f(x) = max(0, x)\n",
        "# funcao de resolucao: adam\n",
        "\n",
        "regr = MLPRegressor(random_state=1234, solver='adam', activation='relu')\n",
        "\n",
        "score1 = validacao_cruzada(regr)"
      ]
    },
    {
      "cell_type": "code",
      "execution_count": 13,
      "metadata": {
        "colab": {
          "base_uri": "https://localhost:8080/"
        },
        "id": "Lx5zabM6PCMh",
        "outputId": "051f0745-aa37-4b93-b47b-59ca177277a9"
      },
      "outputs": [
        {
          "output_type": "stream",
          "name": "stdout",
          "text": [
            "r2 = 0.52 \n",
            "Desvio Padrão = 0.091\n"
          ]
        }
      ],
      "source": [
        "r2 = score1['test_score'].mean()\n",
        "desvio = score1['test_score'].std()\n",
        "print('r2 = %.2f ' %(r2))\n",
        "print('Desvio Padrão = %.3f' %(desvio))"
      ]
    },
    {
      "cell_type": "markdown",
      "metadata": {
        "id": "6TvX-tjCqPwj"
      },
      "source": [
        "##### Padronizando os dados"
      ]
    },
    {
      "cell_type": "markdown",
      "metadata": {
        "id": "_P8Bl5tNR0aX"
      },
      "source": [
        "Para ajustar a escala dos atributos, a melhor escolha encontrada foi utilizando StandartScaler.\n"
      ]
    },
    {
      "cell_type": "code",
      "execution_count": 14,
      "metadata": {
        "id": "rsmCWvXVQkMH"
      },
      "outputs": [],
      "source": [
        "from sklearn.preprocessing import StandardScaler\n",
        "\n",
        "# Ajustar a escala dos atributos \n",
        "\n",
        "escala = StandardScaler()\n",
        "\n",
        "escala.fit(X_treino)\n",
        "\n",
        "X_treino = escala.transform(X_treino)\n",
        "X_teste = escala.transform(X_teste)"
      ]
    },
    {
      "cell_type": "markdown",
      "metadata": {
        "id": "n61ql5hIy-kE"
      },
      "source": [
        "##### Testando o modelo após a normalização dos dados"
      ]
    },
    {
      "cell_type": "code",
      "execution_count": null,
      "metadata": {
        "id": "wLx-tpJozLeC"
      },
      "outputs": [],
      "source": [
        "# função de ativação: relu definida como f(x) = max(0, x)\n",
        "# funcao de resolucao: adam\n",
        "\n",
        "regr = MLPRegressor(random_state=1234, max_iter=200, solver='adam', activation='relu', learning_rate_init= 1e-3)\n",
        "score1 = validacao_cruzada(regr)"
      ]
    },
    {
      "cell_type": "code",
      "execution_count": 16,
      "metadata": {
        "colab": {
          "base_uri": "https://localhost:8080/"
        },
        "id": "fw2QE4ivzQab",
        "outputId": "12d676e8-d4fb-4834-f876-e754602e750f"
      },
      "outputs": [
        {
          "output_type": "stream",
          "name": "stdout",
          "text": [
            "r2 = 0.65 \n",
            "Desvio Padrão = 0.099\n"
          ]
        }
      ],
      "source": [
        "r2 = score1['test_score'].mean()\n",
        "desvio = score1['test_score'].std()\n",
        "print('r2 = %.2f ' %(r2))\n",
        "print('Desvio Padrão = %.3f' %(desvio))"
      ]
    },
    {
      "cell_type": "markdown",
      "metadata": {
        "id": "yx5kGQRrwUn_"
      },
      "source": [
        "##### Aumentando o numero máximo de iterações."
      ]
    },
    {
      "cell_type": "code",
      "execution_count": null,
      "metadata": {
        "id": "bgEI4Rh2QkJr"
      },
      "outputs": [],
      "source": [
        "# função de ativação: relu definida como f(x) = max(0, x)\n",
        "# funcao de resolucao: adam\n",
        "\n",
        "regr = MLPRegressor(random_state=1234, max_iter=3000, solver='adam', activation='relu', learning_rate_init= 1e-3)\n",
        "score1 = validacao_cruzada(regr)"
      ]
    },
    {
      "cell_type": "code",
      "execution_count": 18,
      "metadata": {
        "colab": {
          "base_uri": "https://localhost:8080/"
        },
        "id": "GapqrclSSXRx",
        "outputId": "1677e5bd-7086-4079-dac3-6dcca4b79147"
      },
      "outputs": [
        {
          "output_type": "stream",
          "name": "stdout",
          "text": [
            "r2 = 0.87 \n",
            "Desvio Padrão = 0.071\n"
          ]
        }
      ],
      "source": [
        "r2 = score1['test_score'].mean()\n",
        "desvio = score1['test_score'].std()\n",
        "print('r2 = %.2f ' %(r2))\n",
        "print('Desvio Padrão = %.3f' %(desvio))"
      ]
    },
    {
      "cell_type": "markdown",
      "metadata": {
        "id": "NQgi6rxkq_V8"
      },
      "source": [
        "##### Inclusao de novos parametros no modelo"
      ]
    },
    {
      "cell_type": "code",
      "execution_count": null,
      "metadata": {
        "id": "t_JTEKyhPhxM"
      },
      "outputs": [],
      "source": [
        "# função de ativação: relu definida como f(x) = max(0, x)\n",
        "# funcao de resolucao: adam \n",
        "\n",
        "regr = MLPRegressor(random_state=1234, max_iter=500, \n",
        "                     hidden_layer_sizes=(100, 8), solver='adam', activation='relu')\n",
        "\n",
        "score2 = validacao_cruzada(regr)"
      ]
    },
    {
      "cell_type": "code",
      "execution_count": 20,
      "metadata": {
        "colab": {
          "base_uri": "https://localhost:8080/"
        },
        "id": "vDchnvLiPxoY",
        "outputId": "da6ee113-3228-4f6a-e2b4-6d6938ecb5b1"
      },
      "outputs": [
        {
          "output_type": "stream",
          "name": "stdout",
          "text": [
            "r2 = 0.85 \n",
            "Desvio Padrão = 0.079\n"
          ]
        }
      ],
      "source": [
        "r2 = score2['test_score'].mean()\n",
        "desvio = score2['test_score'].std()\n",
        "print('r2 = %.2f ' %(r2))\n",
        "print('Desvio Padrão = %.3f' %(desvio))"
      ]
    },
    {
      "cell_type": "markdown",
      "metadata": {
        "id": "1TT2c8BCqKiG"
      },
      "source": [
        "##### criando modelo com funcao de ativação logistica"
      ]
    },
    {
      "cell_type": "code",
      "execution_count": null,
      "metadata": {
        "id": "xXot7ThxSkKj"
      },
      "outputs": [],
      "source": [
        "#logistico é ruim para regressao por se adequar melhor em problemas com saidas binarias.\n",
        "# função de ativação: logistic -> Pessimo\n",
        "# funcao de resolucao: adam \n",
        "\n",
        "regr = MLPRegressor(random_state=1234, max_iter=500, \n",
        "                     hidden_layer_sizes=(100, 8), solver='adam', activation='logistic')\n",
        "\n",
        "score3 = validacao_cruzada(regr)"
      ]
    },
    {
      "cell_type": "code",
      "execution_count": 22,
      "metadata": {
        "colab": {
          "base_uri": "https://localhost:8080/"
        },
        "id": "guIivagjVyT-",
        "outputId": "b692c0f0-1050-4dfc-f649-cb18c8cfae29"
      },
      "outputs": [
        {
          "output_type": "stream",
          "name": "stdout",
          "text": [
            "r2 = -3.28 \n",
            "Desvio Padrão = 0.675\n"
          ]
        }
      ],
      "source": [
        "r2 = score3['test_score'].mean()\n",
        "desvio = score3['test_score'].std()\n",
        "print('r2 = %.2f ' %(r2))\n",
        "print('Desvio Padrão = %.3f' %(desvio))"
      ]
    },
    {
      "cell_type": "markdown",
      "metadata": {
        "id": "y3l1Id5JWeOQ"
      },
      "source": [
        "#### Criando modelo com função de otimização lbfgs"
      ]
    },
    {
      "cell_type": "code",
      "execution_count": null,
      "metadata": {
        "id": "9ylQBtXaIEFk"
      },
      "outputs": [],
      "source": [
        "# função de ativação: relu definida como f(x) = max(0, x)\n",
        "# funcao de resolucao: lbfgs \n",
        "\n",
        "regr = MLPRegressor(random_state=1234, max_iter=500, solver='lbfgs', activation='relu')\n",
        "\n",
        "score4 = validacao_cruzada(regr)"
      ]
    },
    {
      "cell_type": "code",
      "execution_count": 24,
      "metadata": {
        "colab": {
          "base_uri": "https://localhost:8080/"
        },
        "id": "mym2hcktIF0-",
        "outputId": "b358b5df-8c8e-45a6-84f9-6a5e0728120a"
      },
      "outputs": [
        {
          "output_type": "stream",
          "name": "stdout",
          "text": [
            "r2 = 0.73 \n",
            "Desvio Padrão = 0.132\n"
          ]
        }
      ],
      "source": [
        "r2 = score4['test_score'].mean()\n",
        "desvio = score4['test_score'].std()\n",
        "print('r2 = %.2f ' %(r2))\n",
        "print('Desvio Padrão = %.3f' %(desvio))"
      ]
    },
    {
      "cell_type": "markdown",
      "metadata": {
        "id": "e0XKClHiMYbi"
      },
      "source": [
        "##### Modificando o numero de camadas e neurônios"
      ]
    },
    {
      "cell_type": "code",
      "execution_count": null,
      "metadata": {
        "id": "fsccJOmzWClk"
      },
      "outputs": [],
      "source": [
        "# função de ativação: relu definida como f(x) = max(0, x)\n",
        "# funcao de resolucao: lbfgs\n",
        "\n",
        "regr = MLPRegressor(random_state=1234, max_iter=500, \n",
        "                     hidden_layer_sizes=(16, 6), solver='lbfgs', activation='relu')\n",
        "\n",
        "score4 = validacao_cruzada(regr)"
      ]
    },
    {
      "cell_type": "code",
      "execution_count": 26,
      "metadata": {
        "colab": {
          "base_uri": "https://localhost:8080/"
        },
        "id": "1sOia7wsWVDw",
        "outputId": "3b50d3dc-5d11-4e90-f730-be5ae676e92b"
      },
      "outputs": [
        {
          "output_type": "stream",
          "name": "stdout",
          "text": [
            "r2 = 0.86 \n",
            "Desvio Padrão = 0.055\n"
          ]
        }
      ],
      "source": [
        "r2 = score4['test_score'].mean()\n",
        "desvio = score4['test_score'].std()\n",
        "print('r2 = %.2f ' %(r2))\n",
        "print('Desvio Padrão = %.3f' %(desvio))"
      ]
    },
    {
      "cell_type": "markdown",
      "metadata": {
        "id": "WRkeUvY0YnMu"
      },
      "source": [
        "#### Criando modelo com função de otimização sgd"
      ]
    },
    {
      "cell_type": "markdown",
      "metadata": {
        "id": "bS9nRD5DJslw"
      },
      "source": [
        "##### Utilizando funcao de ativacao relu"
      ]
    },
    {
      "cell_type": "code",
      "execution_count": null,
      "metadata": {
        "id": "-gzDbSDbI31W"
      },
      "outputs": [],
      "source": [
        "# função de ativação: relu definida como f(x) = max(0, x)\n",
        "# funcao de resolucao: sgd\n",
        "\n",
        "regr = MLPRegressor(random_state=1234, max_iter=500, solver='sgd', activation='relu')\n",
        "score5 = validacao_cruzada(regr)"
      ]
    },
    {
      "cell_type": "code",
      "execution_count": 28,
      "metadata": {
        "colab": {
          "base_uri": "https://localhost:8080/"
        },
        "id": "lAE8JPQFI9Lg",
        "outputId": "e70ca91f-391a-4d1d-ca1f-0966841ef89c"
      },
      "outputs": [
        {
          "output_type": "stream",
          "name": "stdout",
          "text": [
            "r2 = 0.87 \n",
            "Desvio Padrão = 0.073\n"
          ]
        }
      ],
      "source": [
        "r2 = score5['test_score'].mean()\n",
        "desvio = score5['test_score'].std()\n",
        "print('r2 = %.2f ' %(r2))\n",
        "print('Desvio Padrão = %.3f' %(desvio))"
      ]
    },
    {
      "cell_type": "markdown",
      "metadata": {
        "id": "P-J6E7nFJzaY"
      },
      "source": [
        "##### Utilizando funcao de ativacao tangente hiperbólica"
      ]
    },
    {
      "cell_type": "code",
      "execution_count": null,
      "metadata": {
        "id": "hfFO6v1uWVkE"
      },
      "outputs": [],
      "source": [
        "# função de ativação: tanh\n",
        "# funcao de resolucao: adam \n",
        "\n",
        "regr = MLPRegressor(random_state=1234, max_iter=500, solver='sgd', activation='tanh', learning_rate='adaptive')\n",
        "\n",
        "score6 = validacao_cruzada(regr)"
      ]
    },
    {
      "cell_type": "code",
      "execution_count": 30,
      "metadata": {
        "colab": {
          "base_uri": "https://localhost:8080/"
        },
        "id": "bXSjsFHJZqx1",
        "outputId": "abb11c5e-9a85-4858-de02-d02130dde950"
      },
      "outputs": [
        {
          "output_type": "stream",
          "name": "stdout",
          "text": [
            "r2 = 0.84 \n",
            "Desvio Padrão = 0.066\n"
          ]
        }
      ],
      "source": [
        "r2 = score6['test_score'].mean()\n",
        "desvio = score6['test_score'].std()\n",
        "print('r2 = %.2f ' %(r2))\n",
        "print('Desvio Padrão = %.3f' %(desvio))"
      ]
    },
    {
      "cell_type": "markdown",
      "metadata": {
        "id": "vAT9XctMdYLx"
      },
      "source": [
        "#### Escolhendo o regressor ajustado com maior acurácia e menor desvio padrão, para aplicar no conjunto de teste."
      ]
    },
    {
      "cell_type": "code",
      "execution_count": null,
      "metadata": {
        "id": "OHA_1gVVbavt"
      },
      "outputs": [],
      "source": [
        "# função de ativação: relu definida como f(x) = max(0, x)\n",
        "# funcao de resolucao: lbfgs\n",
        "\n",
        "regr = MLPRegressor(random_state=1234, max_iter=500, \n",
        "                     hidden_layer_sizes=(16, 5), solver='lbfgs', activation='relu')\n",
        "\n",
        "score = validacao_cruzada(regr)"
      ]
    },
    {
      "cell_type": "code",
      "execution_count": 32,
      "metadata": {
        "id": "25Cs0LLFd-ZJ",
        "colab": {
          "base_uri": "https://localhost:8080/"
        },
        "outputId": "a1b15ae8-2de5-45ce-8dbe-cbf37485f7f0"
      },
      "outputs": [
        {
          "output_type": "stream",
          "name": "stdout",
          "text": [
            "r2 = 0.85 \n",
            "Desvio Padrão = 0.080\n"
          ]
        }
      ],
      "source": [
        "r2 = score['test_score'].mean()\n",
        "desvio = score['test_score'].std()\n",
        "print('r2 = %.2f ' %(r2))\n",
        "print('Desvio Padrão = %.3f' %(desvio))"
      ]
    },
    {
      "cell_type": "markdown",
      "metadata": {
        "id": "EqpQHj8erQt-"
      },
      "source": [
        "##### Treinando o modelo"
      ]
    },
    {
      "cell_type": "code",
      "execution_count": null,
      "metadata": {
        "id": "_UpeuUEMdkjj"
      },
      "outputs": [],
      "source": [
        "regr.fit(X_treino, y_treino)\n",
        "\n",
        "y_resposta_treino = regr.predict(X_treino)\n",
        "y_resposta_teste = regr.predict(X_teste)"
      ]
    },
    {
      "cell_type": "code",
      "execution_count": 34,
      "metadata": {
        "id": "R_CJxZDtena3"
      },
      "outputs": [],
      "source": [
        "# Definindo métrica de cálculo RMSPE\n",
        "\n",
        "def rmspe(y, y_resposta):\n",
        "    value = np.sqrt(np.mean(np.square(((y - y_resposta) / y)), axis=0))\n",
        "    return value"
      ]
    },
    {
      "cell_type": "markdown",
      "metadata": {
        "id": "4mWNGnDZrZVh"
      },
      "source": [
        "##### Resultados"
      ]
    },
    {
      "cell_type": "code",
      "execution_count": 35,
      "metadata": {
        "id": "IFGeD-4ueRe_",
        "colab": {
          "base_uri": "https://localhost:8080/"
        },
        "outputId": "3b6e305c-5200-469d-bba6-d9bc617af4b7"
      },
      "outputs": [
        {
          "output_type": "stream",
          "name": "stdout",
          "text": [
            " Métrica   DENTRO da amostra   FORA da amostra \n",
            " -------   -----------------   --------------- \n",
            "    rmse              1.6745            3.7946 \n",
            "      r2              0.9687            0.7755 \n",
            "   rmspe              0.1065            0.1990 \n"
          ]
        }
      ],
      "source": [
        "from sklearn.metrics import mean_squared_error, r2_score\n",
        "import math\n",
        "\n",
        "mse_in = mean_squared_error(y_treino, y_resposta_treino)\n",
        "rmse_in = math.sqrt(mse_in)\n",
        "r2_in = r2_score(y_treino, y_resposta_treino)\n",
        "rmspe_in = rmspe(y_treino, y_resposta_treino)\n",
        "\n",
        "mse_out = mean_squared_error(y_teste, y_resposta_teste)\n",
        "rmse_out = math.sqrt(mse_out)\n",
        "r2_out = r2_score(y_teste, y_resposta_teste)\n",
        "rmspe_out = rmspe(y_teste, y_resposta_teste)\n",
        "\n",
        "print(' Métrica   DENTRO da amostra   FORA da amostra ')\n",
        "print(' -------   -----------------   --------------- ')\n",
        "\n",
        "print(' %7s   %17.4f   %15.4f ' % ( 'rmse' , rmse_in, rmse_out) )\n",
        "print(' %7s   %17.4f   %15.4f ' % ( 'r2' , r2_in, r2_out) )\n",
        "print(' %7s   %17.4f   %15.4f ' % ( 'rmspe' , rmspe_in, rmspe_out) )"
      ]
    },
    {
      "cell_type": "markdown",
      "metadata": {
        "id": "VvUtX3TKCsFQ"
      },
      "source": [
        "#### Retirando outliers e aplicando o modelo novamente:"
      ]
    },
    {
      "cell_type": "code",
      "execution_count": 36,
      "metadata": {
        "id": "jL1ETA0nmI0M"
      },
      "outputs": [],
      "source": [
        "df = pd.DataFrame(X)\n",
        "df.columns = dados.feature_names\n",
        "df['target'] = y"
      ]
    },
    {
      "cell_type": "code",
      "execution_count": 37,
      "metadata": {
        "id": "eskSIxu9fnPz",
        "colab": {
          "base_uri": "https://localhost:8080/"
        },
        "outputId": "9f0b194e-a7d4-42f6-b698-00474f1d6650"
      },
      "outputs": [
        {
          "output_type": "stream",
          "name": "stdout",
          "text": [
            "xtreino : 404\n"
          ]
        }
      ],
      "source": [
        "X = df.iloc[:,:-1]\n",
        "y = df.iloc[:, -1]\n",
        "\n",
        "X_treino,X_teste,y_treino,y_teste = train_test_split(X,y,test_size=0.2,random_state=12345)\n",
        "\n",
        "print('xtreino :', len(X_treino))"
      ]
    },
    {
      "cell_type": "code",
      "execution_count": 38,
      "metadata": {
        "id": "X6JdfIH37G0X",
        "colab": {
          "base_uri": "https://localhost:8080/"
        },
        "outputId": "06761a57-b214-4b58-cc01-00a6e200f1b1"
      },
      "outputs": [
        {
          "output_type": "stream",
          "name": "stdout",
          "text": [
            "xtreino : 389\n"
          ]
        }
      ],
      "source": [
        "from sklearn.neighbors import LocalOutlierFactor\n",
        "\n",
        "LOF = LocalOutlierFactor(n_neighbors=292,n_jobs=-1)\n",
        "yhat = LOF.fit_predict(X_treino)\n",
        "\n",
        "mask = yhat != -1\n",
        "\n",
        "X_treino = X_treino.loc[mask,:] \n",
        "y_treino = y_treino.loc[mask]\n",
        "\n",
        "print('xtreino :', len(X_treino))"
      ]
    },
    {
      "cell_type": "code",
      "execution_count": 39,
      "metadata": {
        "id": "v-zPETp-nLGq"
      },
      "outputs": [],
      "source": [
        "escala = StandardScaler()\n",
        "\n",
        "escala.fit(X_treino)\n",
        "\n",
        "X_treino = escala.transform(X_treino)\n",
        "X_teste = escala.transform(X_teste)"
      ]
    },
    {
      "cell_type": "code",
      "execution_count": null,
      "metadata": {
        "id": "qQTILdZ6gX7R"
      },
      "outputs": [],
      "source": [
        "regr = MLPRegressor(random_state=1234, max_iter=500, \n",
        "                     hidden_layer_sizes=(16, 5), solver='lbfgs', activation='relu')\n",
        "\n",
        "score = validacao_cruzada(regr)"
      ]
    },
    {
      "cell_type": "code",
      "execution_count": 41,
      "metadata": {
        "id": "1jbODp2fhMmV",
        "colab": {
          "base_uri": "https://localhost:8080/"
        },
        "outputId": "4196ed94-b537-4294-f401-14e43590ba08"
      },
      "outputs": [
        {
          "output_type": "stream",
          "name": "stdout",
          "text": [
            "r2 = 0.84 \n",
            "Desvio Padrão = 0.066\n"
          ]
        }
      ],
      "source": [
        "r2 = score6['test_score'].mean()\n",
        "desvio = score6['test_score'].std()\n",
        "print('r2 = %.2f ' %(r2))\n",
        "print('Desvio Padrão = %.3f' %(desvio))"
      ]
    },
    {
      "cell_type": "code",
      "execution_count": null,
      "metadata": {
        "id": "B5-fgRsofmuh"
      },
      "outputs": [],
      "source": [
        "regr.fit(X_treino, y_treino)\n",
        "\n",
        "y_resposta_treino = regr.predict(X_treino)\n",
        "y_resposta_teste = regr.predict(X_teste)"
      ]
    },
    {
      "cell_type": "markdown",
      "source": [
        "Resultados após retirada de outliers"
      ],
      "metadata": {
        "id": "CgOZ-5RqGNy9"
      }
    },
    {
      "cell_type": "code",
      "execution_count": 43,
      "metadata": {
        "id": "mw1hysNbgCVa",
        "colab": {
          "base_uri": "https://localhost:8080/"
        },
        "outputId": "b3a2490e-a360-42e9-b7e6-c96d8e017dac"
      },
      "outputs": [
        {
          "output_type": "stream",
          "name": "stdout",
          "text": [
            " Métrica   DENTRO da amostra   FORA da amostra \n",
            " -------   -----------------   --------------- \n",
            "    rmse              1.6979            3.6190 \n",
            "      r2              0.9672            0.7958 \n",
            "   rmspe              0.1020            0.2204 \n"
          ]
        }
      ],
      "source": [
        "mse_in = mean_squared_error(y_treino, y_resposta_treino)\n",
        "rmse_in = math.sqrt(mse_in)\n",
        "r2_in = r2_score(y_treino, y_resposta_treino)\n",
        "rmspe_in = rmspe(y_treino, y_resposta_treino)\n",
        "\n",
        "mse_out = mean_squared_error(y_teste, y_resposta_teste)\n",
        "rmse_out = math.sqrt(mse_out)\n",
        "r2_out = r2_score(y_teste, y_resposta_teste)\n",
        "rmspe_out = rmspe(y_teste, y_resposta_teste)\n",
        "\n",
        "print(' Métrica   DENTRO da amostra   FORA da amostra ')\n",
        "print(' -------   -----------------   --------------- ')\n",
        "\n",
        "print(' %7s   %17.4f   %15.4f ' % ( 'rmse' , rmse_in, rmse_out) )\n",
        "print(' %7s   %17.4f   %15.4f ' % ( 'r2' , r2_in, r2_out) )\n",
        "print(' %7s   %17.4f   %15.4f ' % ( 'rmspe' , rmspe_in, rmspe_out) )"
      ]
    },
    {
      "cell_type": "markdown",
      "metadata": {
        "id": "nHnRXbmXvupX"
      },
      "source": [
        "#### Fazendo treinamento final utilizando outra funcao de otimização (sgd)."
      ]
    },
    {
      "cell_type": "markdown",
      "source": [
        "##### Aplicando o modelo com otimizador sgd e funcao de ativacao relu sem retirar os outliers:"
      ],
      "metadata": {
        "id": "_poI0slQ7LGo"
      }
    },
    {
      "cell_type": "code",
      "source": [
        "X = dados.data\n",
        "y = dados.target\n",
        "\n",
        "df = pd.DataFrame(X)\n",
        "df.columns = dados.feature_names\n",
        "df['target'] = y"
      ],
      "metadata": {
        "id": "_l4sdAu97jZy"
      },
      "execution_count": 44,
      "outputs": []
    },
    {
      "cell_type": "code",
      "source": [
        "X = df.iloc[:,:-1]\n",
        "y = df.iloc[:, -1]\n",
        "\n",
        "X_treino,X_teste,y_treino,y_teste = train_test_split(X,y,test_size=0.2,random_state=12345)"
      ],
      "metadata": {
        "id": "6RgyDaTG7oiz"
      },
      "execution_count": 45,
      "outputs": []
    },
    {
      "cell_type": "markdown",
      "source": [
        "Padronização dos dados"
      ],
      "metadata": {
        "id": "z4_GIHLr717o"
      }
    },
    {
      "cell_type": "code",
      "source": [
        "escala = StandardScaler()\n",
        "escala.fit(X_treino)\n",
        "\n",
        "X_treino = escala.transform(X_treino)\n",
        "X_teste = escala.transform(X_teste)"
      ],
      "metadata": {
        "id": "TetfAi0I74be"
      },
      "execution_count": 46,
      "outputs": []
    },
    {
      "cell_type": "code",
      "source": [
        "# função de ativação: relu definida como f(x) = max(0, x)\n",
        "# funcao de resolucao: sgd\n",
        "\n",
        "regr = MLPRegressor(random_state=1234, max_iter=500, solver='sgd', activation='relu')\n",
        "score = validacao_cruzada(regr)"
      ],
      "metadata": {
        "id": "INPJrKvX7cUQ"
      },
      "execution_count": null,
      "outputs": []
    },
    {
      "cell_type": "code",
      "source": [
        "r2 = score['test_score'].mean()\n",
        "desvio = score['test_score'].std()\n",
        "print('r2 = %.2f ' %(r2))\n",
        "print('Desvio Padrão = %.3f' %(desvio))"
      ],
      "metadata": {
        "colab": {
          "base_uri": "https://localhost:8080/"
        },
        "id": "Po4zH0J88Gm5",
        "outputId": "896abc91-d3a7-4081-80f1-c0463a11e86d"
      },
      "execution_count": 48,
      "outputs": [
        {
          "output_type": "stream",
          "name": "stdout",
          "text": [
            "r2 = 0.87 \n",
            "Desvio Padrão = 0.073\n"
          ]
        }
      ]
    },
    {
      "cell_type": "code",
      "source": [
        "regr.fit(X_treino, y_treino)\n",
        "\n",
        "y_resposta_treino = regr.predict(X_treino)\n",
        "y_resposta_teste = regr.predict(X_teste)"
      ],
      "metadata": {
        "id": "A4GvX5Mw8KOi"
      },
      "execution_count": 49,
      "outputs": []
    },
    {
      "cell_type": "code",
      "source": [
        "mse_in = mean_squared_error(y_treino, y_resposta_treino)\n",
        "rmse_in = math.sqrt(mse_in)\n",
        "r2_in = r2_score(y_treino, y_resposta_treino)\n",
        "rmspe_in = rmspe(y_treino, y_resposta_treino)\n",
        "\n",
        "mse_out = mean_squared_error(y_teste, y_resposta_teste)\n",
        "rmse_out = math.sqrt(mse_out)\n",
        "r2_out = r2_score(y_teste, y_resposta_teste)\n",
        "rmspe_out = rmspe(y_teste, y_resposta_teste)\n",
        "\n",
        "print(' Métrica   DENTRO da amostra   FORA da amostra ')\n",
        "print(' -------   -----------------   --------------- ')\n",
        "\n",
        "print(' %7s   %17.4f   %15.4f ' % ( 'rmse' , rmse_in, rmse_out) )\n",
        "print(' %7s   %17.4f   %15.4f ' % ( 'r2' , r2_in, r2_out) )\n",
        "print(' %7s   %17.4f   %15.4f ' % ( 'rmspe' , rmspe_in, rmspe_out) )"
      ],
      "metadata": {
        "colab": {
          "base_uri": "https://localhost:8080/"
        },
        "id": "ZJHykCyp8N0J",
        "outputId": "2dd09c0e-9682-4dce-baad-83d5dfc3a0a7"
      },
      "execution_count": 50,
      "outputs": [
        {
          "output_type": "stream",
          "name": "stdout",
          "text": [
            " Métrica   DENTRO da amostra   FORA da amostra \n",
            " -------   -----------------   --------------- \n",
            "    rmse              3.0601            3.4539 \n",
            "      r2              0.8954            0.8140 \n",
            "   rmspe              0.1584            0.1877 \n"
          ]
        }
      ]
    },
    {
      "cell_type": "markdown",
      "source": [
        "##### Aplicando o modelo com otimizador sgd e funcao de ativacao relu após retirar os outliers:"
      ],
      "metadata": {
        "id": "2gVfXJLn8RSF"
      }
    },
    {
      "cell_type": "code",
      "source": [
        "X = df.iloc[:,:-1]\n",
        "y = df.iloc[:, -1]\n",
        "\n",
        "X_treino,X_teste,y_treino,y_teste = train_test_split(X,y,test_size=0.2,random_state=12345)\n",
        "\n",
        "print('xtreino :', len(X_treino))"
      ],
      "metadata": {
        "colab": {
          "base_uri": "https://localhost:8080/"
        },
        "id": "CqZb6toN8Qxp",
        "outputId": "f2f19ad0-5c81-4ed6-c15b-3183a9efeea2"
      },
      "execution_count": 51,
      "outputs": [
        {
          "output_type": "stream",
          "name": "stdout",
          "text": [
            "xtreino : 404\n",
            "ytreino : 404\n"
          ]
        }
      ]
    },
    {
      "cell_type": "markdown",
      "source": [
        "Retirando os outliers do conjunto de dados utilizando 292 vizinhos"
      ],
      "metadata": {
        "id": "ZRlQh5ur8x4d"
      }
    },
    {
      "cell_type": "code",
      "source": [
        "from sklearn.neighbors import LocalOutlierFactor\n",
        "\n",
        "LOF = LocalOutlierFactor(n_neighbors=292,n_jobs=-1)\n",
        "yhat = LOF.fit_predict(X_treino)\n",
        "\n",
        "mask = yhat != -1\n",
        "\n",
        "X_treino = X_treino.loc[mask,:] \n",
        "y_treino = y_treino.loc[mask]\n",
        "\n",
        "print('xtreino :', len(X_treino))"
      ],
      "metadata": {
        "colab": {
          "base_uri": "https://localhost:8080/"
        },
        "id": "KGcSrxAo8wwX",
        "outputId": "a2c5250b-82a4-45e5-a7ee-17d07ee38b1d"
      },
      "execution_count": 52,
      "outputs": [
        {
          "output_type": "stream",
          "name": "stdout",
          "text": [
            "xtreino : 389\n",
            "ytreino : 389\n"
          ]
        }
      ]
    },
    {
      "cell_type": "code",
      "source": [
        "escala = StandardScaler()\n",
        "\n",
        "escala.fit(X_treino)\n",
        "\n",
        "X_treino = escala.transform(X_treino)\n",
        "X_teste = escala.transform(X_teste)"
      ],
      "metadata": {
        "id": "WSbbGIPs87vU"
      },
      "execution_count": 53,
      "outputs": []
    },
    {
      "cell_type": "code",
      "source": [
        "# função de ativação: relu definida como f(x) = max(0, x)\n",
        "# funcao de resolucao: adam \n",
        "\n",
        "regr = MLPRegressor(random_state=1234, max_iter=500, solver='sgd', activation='relu')\n",
        "score = validacao_cruzada(regr)"
      ],
      "metadata": {
        "id": "BrKs60PI9BjH"
      },
      "execution_count": null,
      "outputs": []
    },
    {
      "cell_type": "code",
      "source": [
        "r2 = score['test_score'].mean()\n",
        "desvio = score['test_score'].std()\n",
        "print('r2 = %.2f ' %(r2))\n",
        "print('Desvio Padrão = %.3f' %(desvio))"
      ],
      "metadata": {
        "colab": {
          "base_uri": "https://localhost:8080/"
        },
        "id": "wihxZvQs9Mjo",
        "outputId": "f56446e2-f99a-483e-a102-6f13a9cccdaf"
      },
      "execution_count": 55,
      "outputs": [
        {
          "output_type": "stream",
          "name": "stdout",
          "text": [
            "r2 = 0.82 \n",
            "Desvio Padrão = 0.114\n"
          ]
        }
      ]
    },
    {
      "cell_type": "code",
      "source": [
        "regr.fit(X_treino, y_treino)\n",
        "\n",
        "y_resposta_treino = regr.predict(X_treino)\n",
        "y_resposta_teste = regr.predict(X_teste)"
      ],
      "metadata": {
        "colab": {
          "base_uri": "https://localhost:8080/"
        },
        "id": "PJHpzt4y9QPj",
        "outputId": "ad07dd01-6a31-4c1b-87d4-aa31858ea480"
      },
      "execution_count": 56,
      "outputs": [
        {
          "output_type": "stream",
          "name": "stderr",
          "text": [
            "/usr/local/lib/python3.7/dist-packages/sklearn/neural_network/_multilayer_perceptron.py:696: ConvergenceWarning: Stochastic Optimizer: Maximum iterations (500) reached and the optimization hasn't converged yet.\n",
            "  ConvergenceWarning,\n"
          ]
        }
      ]
    },
    {
      "cell_type": "code",
      "source": [
        "mse_in = mean_squared_error(y_treino, y_resposta_treino)\n",
        "rmse_in = math.sqrt(mse_in)\n",
        "r2_in = r2_score(y_treino, y_resposta_treino)\n",
        "rmspe_in = rmspe(y_treino, y_resposta_treino)\n",
        "\n",
        "mse_out = mean_squared_error(y_teste, y_resposta_teste)\n",
        "rmse_out = math.sqrt(mse_out)\n",
        "r2_out = r2_score(y_teste, y_resposta_teste)\n",
        "rmspe_out = rmspe(y_teste, y_resposta_teste)\n",
        "\n",
        "print(' Métrica   DENTRO da amostra   FORA da amostra ')\n",
        "print(' -------   -----------------   --------------- ')\n",
        "\n",
        "print(' %7s   %17.4f   %15.4f ' % ( 'rmse' , rmse_in, rmse_out) )\n",
        "print(' %7s   %17.4f   %15.4f ' % ( 'r2' , r2_in, r2_out) )\n",
        "print(' %7s   %17.4f   %15.4f ' % ( 'rmspe' , rmspe_in, rmspe_out) )"
      ],
      "metadata": {
        "colab": {
          "base_uri": "https://localhost:8080/"
        },
        "id": "gAGrjEwC9Vxa",
        "outputId": "323b4c86-689b-422f-b5db-e1d65dc62a15"
      },
      "execution_count": 57,
      "outputs": [
        {
          "output_type": "stream",
          "name": "stdout",
          "text": [
            " Métrica   DENTRO da amostra   FORA da amostra \n",
            " -------   -----------------   --------------- \n",
            "    rmse              2.4160            3.6888 \n",
            "      r2              0.9336            0.7878 \n",
            "   rmspe              0.1230            0.2359 \n"
          ]
        }
      ]
    },
    {
      "cell_type": "markdown",
      "metadata": {
        "id": "V-Sk9EKEtCFE"
      },
      "source": [
        "#### Fazendo analise dos resultado ao retirar a coluna B. "
      ]
    },
    {
      "cell_type": "code",
      "execution_count": 58,
      "metadata": {
        "id": "yP2WxS9wtBLl"
      },
      "outputs": [],
      "source": [
        "X = dados.data\n",
        "y = dados.target\n",
        "\n",
        "df = pd.DataFrame(X)\n",
        "df.columns = dados.feature_names\n",
        "df['target'] = y"
      ]
    },
    {
      "cell_type": "code",
      "execution_count": null,
      "metadata": {
        "id": "EswUm96JtV6D"
      },
      "outputs": [],
      "source": [
        "X = df.iloc[:,:-1]\n",
        "X = X.drop(['B'], axis=1)\n",
        "y = df.iloc[:, -1]\n",
        "\n",
        "X_treino,X_teste,y_treino,y_teste = train_test_split(X,y,test_size=0.2,random_state=12345)"
      ]
    },
    {
      "cell_type": "markdown",
      "metadata": {
        "id": "97Xp7NMUuLek"
      },
      "source": [
        "##### Padronizando os dados"
      ]
    },
    {
      "cell_type": "code",
      "execution_count": 60,
      "metadata": {
        "id": "_VpcRy1MuKm5"
      },
      "outputs": [],
      "source": [
        "from sklearn.preprocessing import StandardScaler\n",
        "\n",
        "escala = StandardScaler()\n",
        "escala.fit(X_treino)\n",
        "\n",
        "X_treino = escala.transform(X_treino)\n",
        "X_teste = escala.transform(X_teste)"
      ]
    },
    {
      "cell_type": "markdown",
      "source": [
        "##### Utilizando lbfgs como otimizador:"
      ],
      "metadata": {
        "id": "hHKDXqohKErO"
      }
    },
    {
      "cell_type": "code",
      "execution_count": null,
      "metadata": {
        "id": "iOghmaGVudjx"
      },
      "outputs": [],
      "source": [
        "regr = MLPRegressor(random_state=1234, max_iter=500, \n",
        "                     hidden_layer_sizes=(16, 5), solver='lbfgs', activation='relu')\n",
        "\n",
        "score = validacao_cruzada(regr)"
      ]
    },
    {
      "cell_type": "code",
      "execution_count": 62,
      "metadata": {
        "id": "dm5hzVmOukAh",
        "colab": {
          "base_uri": "https://localhost:8080/"
        },
        "outputId": "87188c12-7979-4e2a-e7f8-471188ff15e9"
      },
      "outputs": [
        {
          "output_type": "stream",
          "name": "stdout",
          "text": [
            "r2 = 0.75 \n",
            "Desvio Padrão = 0.097\n"
          ]
        }
      ],
      "source": [
        "r2 = score['test_score'].mean()\n",
        "desvio = score['test_score'].std()\n",
        "print('r2 = %.2f ' %(r2))\n",
        "print('Desvio Padrão = %.3f' %(desvio))"
      ]
    },
    {
      "cell_type": "code",
      "execution_count": null,
      "metadata": {
        "id": "J0DG5armut-3"
      },
      "outputs": [],
      "source": [
        "regr.fit(X_treino, y_treino)\n",
        "\n",
        "y_resposta_treino = regr.predict(X_treino)\n",
        "y_resposta_teste = regr.predict(X_teste)\n"
      ]
    },
    {
      "cell_type": "code",
      "execution_count": 64,
      "metadata": {
        "id": "5iavrS4lu1HZ",
        "colab": {
          "base_uri": "https://localhost:8080/"
        },
        "outputId": "f76287ae-12e3-48b8-c84e-122fbcfe6736"
      },
      "outputs": [
        {
          "output_type": "stream",
          "name": "stdout",
          "text": [
            " Métrica   DENTRO da amostra   FORA da amostra \n",
            " -------   -----------------   --------------- \n",
            "    rmse              1.1395            4.8985 \n",
            "      r2              0.9855            0.6258 \n",
            "   rmspe              0.0714            0.3009 \n"
          ]
        }
      ],
      "source": [
        "mse_in = mean_squared_error(y_treino, y_resposta_treino)\n",
        "rmse_in = math.sqrt(mse_in)\n",
        "r2_in = r2_score(y_treino, y_resposta_treino)\n",
        "rmspe_in = rmspe(y_treino, y_resposta_treino)\n",
        "\n",
        "mse_out = mean_squared_error(y_teste, y_resposta_teste)\n",
        "rmse_out = math.sqrt(mse_out)\n",
        "r2_out = r2_score(y_teste, y_resposta_teste)\n",
        "rmspe_out = rmspe(y_teste, y_resposta_teste)\n",
        "\n",
        "print(' Métrica   DENTRO da amostra   FORA da amostra ')\n",
        "print(' -------   -----------------   --------------- ')\n",
        "\n",
        "print(' %7s   %17.4f   %15.4f ' % ( 'rmse' , rmse_in, rmse_out) )\n",
        "print(' %7s   %17.4f   %15.4f ' % ( 'r2' , r2_in, r2_out) )\n",
        "print(' %7s   %17.4f   %15.4f ' % ( 'rmspe' , rmspe_in, rmspe_out) )"
      ]
    },
    {
      "cell_type": "markdown",
      "source": [
        "##### Utilizando sgd como otimizador:"
      ],
      "metadata": {
        "id": "-fe4DxWIJ9_c"
      }
    },
    {
      "cell_type": "code",
      "source": [
        "# função de ativação: relu definida como f(x) = max(0, x)\n",
        "# funcao de resolucao: sgd\n",
        "\n",
        "regr = MLPRegressor(random_state=1234, max_iter=500, solver='sgd', activation='relu')\n",
        "score = validacao_cruzada(regr)"
      ],
      "metadata": {
        "id": "L38SXXseKbnm"
      },
      "execution_count": null,
      "outputs": []
    },
    {
      "cell_type": "code",
      "source": [
        "r2 = score['test_score'].mean()\n",
        "desvio = score['test_score'].std()\n",
        "print('r2 = %.2f ' %(r2))\n",
        "print('Desvio Padrão = %.3f' %(desvio))"
      ],
      "metadata": {
        "colab": {
          "base_uri": "https://localhost:8080/"
        },
        "id": "qDIoQUmWKdww",
        "outputId": "ae087ba2-503c-43fa-d7b4-1b6d00fb52dc"
      },
      "execution_count": 66,
      "outputs": [
        {
          "output_type": "stream",
          "name": "stdout",
          "text": [
            "r2 = 0.86 \n",
            "Desvio Padrão = 0.078\n"
          ]
        }
      ]
    },
    {
      "cell_type": "code",
      "source": [
        "regr.fit(X_treino, y_treino)\n",
        "\n",
        "y_resposta_treino = regr.predict(X_treino)\n",
        "y_resposta_teste = regr.predict(X_teste)"
      ],
      "metadata": {
        "id": "eMznV3SrKfde"
      },
      "execution_count": 67,
      "outputs": []
    },
    {
      "cell_type": "code",
      "source": [
        "mse_in = mean_squared_error(y_treino, y_resposta_treino)\n",
        "rmse_in = math.sqrt(mse_in)\n",
        "r2_in = r2_score(y_treino, y_resposta_treino)\n",
        "rmspe_in = rmspe(y_treino, y_resposta_treino)\n",
        "\n",
        "mse_out = mean_squared_error(y_teste, y_resposta_teste)\n",
        "rmse_out = math.sqrt(mse_out)\n",
        "r2_out = r2_score(y_teste, y_resposta_teste)\n",
        "rmspe_out = rmspe(y_teste, y_resposta_teste)\n",
        "\n",
        "print(' Métrica   DENTRO da amostra   FORA da amostra ')\n",
        "print(' -------   -----------------   --------------- ')\n",
        "\n",
        "print(' %7s   %17.4f   %15.4f ' % ( 'rmse' , rmse_in, rmse_out) )\n",
        "print(' %7s   %17.4f   %15.4f ' % ( 'r2' , r2_in, r2_out) )\n",
        "print(' %7s   %17.4f   %15.4f ' % ( 'rmspe' , rmspe_in, rmspe_out) )"
      ],
      "metadata": {
        "colab": {
          "base_uri": "https://localhost:8080/"
        },
        "id": "xElQHnOwKxm5",
        "outputId": "3f76509d-5672-4395-e786-d9073cdf1b51"
      },
      "execution_count": 68,
      "outputs": [
        {
          "output_type": "stream",
          "name": "stdout",
          "text": [
            " Métrica   DENTRO da amostra   FORA da amostra \n",
            " -------   -----------------   --------------- \n",
            "    rmse              3.0034            3.4469 \n",
            "      r2              0.8992            0.8147 \n",
            "   rmspe              0.1764            0.2091 \n"
          ]
        }
      ]
    }
  ],
  "metadata": {
    "colab": {
      "collapsed_sections": [
        "6TvX-tjCqPwj",
        "n61ql5hIy-kE",
        "yx5kGQRrwUn_",
        "NQgi6rxkq_V8",
        "1TT2c8BCqKiG",
        "y3l1Id5JWeOQ",
        "e0XKClHiMYbi",
        "97Xp7NMUuLek"
      ],
      "name": "boston_neural_regression.ipynb",
      "provenance": []
    },
    "kernelspec": {
      "display_name": "Python 3",
      "name": "python3"
    },
    "language_info": {
      "name": "python"
    }
  },
  "nbformat": 4,
  "nbformat_minor": 0
}